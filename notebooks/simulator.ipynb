{
 "cells": [
  {
   "metadata": {},
   "cell_type": "code",
   "source": [
    "import numpy as np\n",
    "import hdf5storage as sio\n",
    "\n",
    "# Load connectivity data\n",
    "conn_66 = sio.loadmat(\"../data/h66.mat\")\n",
    "weights = conn_66['weights']\n",
    "tract_lengths = conn_66['tract_lengths']\n",
    "\n",
    "n_rois = weights.shape[0]\n",
    "print(f'Number of regions of interest = {n_rois}')"
   ],
   "id": "974017bd8ee10a32",
   "outputs": [],
   "execution_count": null
  },
  {
   "metadata": {},
   "cell_type": "code",
   "source": [
    "from neuronumba.simulator.models import Naskar\n",
    "from neuronumba.simulator.connectivity import Connectivity\n",
    "\n",
    "# Create the connectivity data for the simulation\n",
    "con = Connectivity(weights=weights, lengths=tract_lengths, speed=1e10)\n",
    "# Use the Naskar model\n",
    "m = Naskar()\n",
    "print(f\"Naskar state variables = {m.get_state_vars}, and observable variables = {m.get_observablevars}\")"
   ],
   "id": "c36703747ca9205d",
   "outputs": [],
   "execution_count": null
  },
  {
   "metadata": {},
   "cell_type": "code",
   "source": [
    "from neuronumba.simulator.monitors import RawSubSample\n",
    "from neuronumba.simulator.coupling import CouplingLinearNoDelays\n",
    "from neuronumba.simulator.integrators import EulerStochastic, EulerDeterministic\n",
    "\n",
    "# Set integration step at 0.1 ms\n",
    "dt = 0.1\n",
    "# You can use an Euler integrator, either deterministic or stochastic\n",
    "integ = EulerDeterministic(dt=dt)\n",
    "# integ = EulerStochastic(dt=dt, sigmas=np.r_[1e-2, 0, 0])\n",
    "\n",
    "\n",
    "# We are using a coupling with no delays, and with a global coupling linear factor of g=1.0\n",
    "coupling = CouplingLinearNoDelays(weights=weights, g=1.0)\n",
    "# We want to sample observable variable with index 1 ('re') every 1 ms\n",
    "monitor = RawSubSample(period=1.0, state_vars=[], obs_vars=[m.get_observed_sub(['re'])])"
   ],
   "id": "7c744015ca126685",
   "outputs": [],
   "execution_count": null
  },
  {
   "metadata": {},
   "cell_type": "code",
   "source": [
    "import time\n",
    "from neuronumba.simulator.simulator import Simulator\n",
    "\n",
    "# Create the simulator\n",
    "s = Simulator(connectivity=con, model=m, coupling=coupling, integrator=integ, monitors=[monitor])\n",
    "\n",
    "# And run it measuring the execution time\n",
    "# We run a simulation of 10 sec (100000 ms)\n",
    "start_time = time.perf_counter()\n",
    "s.run(0, 100000)\n",
    "t_sim = time.perf_counter() - start_time\n",
    "print(f\"Simulation time = {t_sim} seconds\")"
   ],
   "id": "99a31b4df77bd152",
   "outputs": [],
   "execution_count": null
  },
  {
   "metadata": {},
   "cell_type": "code",
   "source": [
    "from matplotlib import pyplot as plt\n",
    "\n",
    "signal = monitor.data('re')\n",
    "\n",
    "fig, ax = plt.subplots()\n",
    "ax.plot(np.arange(signal.shape[0]), signal)\n",
    "plt.show()"
   ],
   "id": "5039ee1d8c2048de",
   "outputs": [],
   "execution_count": null
  }
 ],
 "metadata": {
  "kernelspec": {
   "display_name": "Python 3",
   "language": "python",
   "name": "python3"
  },
  "language_info": {
   "codemirror_mode": {
    "name": "ipython",
    "version": 2
   },
   "file_extension": ".py",
   "mimetype": "text/x-python",
   "name": "python",
   "nbconvert_exporter": "python",
   "pygments_lexer": "ipython2",
   "version": "2.7.6"
  }
 },
 "nbformat": 4,
 "nbformat_minor": 5
}
